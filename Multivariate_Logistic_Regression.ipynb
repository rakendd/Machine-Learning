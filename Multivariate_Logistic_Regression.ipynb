{
 "cells": [
  {
   "cell_type": "markdown",
   "metadata": {
    "colab_type": "text",
    "id": "7kbeQ8Ifpxjk"
   },
   "source": [
    "This is continuation of univariate logistic regression post. <br>\n",
    "Since, this is a multivariate problem we deal with more than one feature (sepal length and sepal width) and a target vector of size 2 (setosa, versicolor)\n"
   ]
  },
  {
   "cell_type": "code",
   "execution_count": 1,
   "metadata": {
    "colab": {
     "autoexec": {
      "startup": false,
      "wait_interval": 0
     }
    },
    "colab_type": "code",
    "collapsed": true,
    "id": "R-72o3arpxjl"
   },
   "outputs": [],
   "source": [
    "\n",
    "%matplotlib inline\n",
    "import numpy as np\n",
    "import matplotlib.pyplot as plt\n",
    "import seaborn as sns\n",
    "from sklearn import datasets\n",
    "from sklearn import linear_model"
   ]
  },
  {
   "cell_type": "code",
   "execution_count": 2,
   "metadata": {
    "colab": {
     "autoexec": {
      "startup": false,
      "wait_interval": 0
     }
    },
    "colab_type": "code",
    "collapsed": true,
    "id": "pW47znl0pxjp"
   },
   "outputs": [],
   "source": [
    "iris = datasets.load_iris()"
   ]
  },
  {
   "cell_type": "code",
   "execution_count": 3,
   "metadata": {
    "colab": {
     "autoexec": {
      "startup": false,
      "wait_interval": 0
     },
     "base_uri": "https://localhost:8080/",
     "height": 89
    },
    "colab_type": "code",
    "executionInfo": {
     "elapsed": 1042,
     "status": "ok",
     "timestamp": 1526821618503,
     "user": {
      "displayName": "Rakend Reddy",
      "photoUrl": "//lh3.googleusercontent.com/-gGO5q20beLY/AAAAAAAAAAI/AAAAAAAAThw/LdLml3kfErg/s50-c-k-no/photo.jpg",
      "userId": "116865286293014944525"
     },
     "user_tz": -330
    },
    "id": "NQMJRKPnpxjt",
    "outputId": "3872da13-c915-4680-c5dd-c998666395ee"
   },
   "outputs": [
    {
     "data": {
      "text/plain": [
       "['sepal length (cm)',\n",
       " 'sepal width (cm)',\n",
       " 'petal length (cm)',\n",
       " 'petal width (cm)']"
      ]
     },
     "execution_count": 3,
     "metadata": {},
     "output_type": "execute_result"
    }
   ],
   "source": [
    "iris.feature_names"
   ]
  },
  {
   "cell_type": "code",
   "execution_count": 4,
   "metadata": {
    "colab": {
     "autoexec": {
      "startup": false,
      "wait_interval": 0
     },
     "base_uri": "https://localhost:8080/",
     "height": 35
    },
    "colab_type": "code",
    "executionInfo": {
     "elapsed": 1031,
     "status": "ok",
     "timestamp": 1526821619603,
     "user": {
      "displayName": "Rakend Reddy",
      "photoUrl": "//lh3.googleusercontent.com/-gGO5q20beLY/AAAAAAAAAAI/AAAAAAAAThw/LdLml3kfErg/s50-c-k-no/photo.jpg",
      "userId": "116865286293014944525"
     },
     "user_tz": -330
    },
    "id": "jEikWCicpxjy",
    "outputId": "e2b13b47-831f-4bca-e78d-ca15504aee6b"
   },
   "outputs": [
    {
     "data": {
      "text/plain": [
       "array(['setosa', 'versicolor', 'virginica'],\n",
       "      dtype='<U10')"
      ]
     },
     "execution_count": 4,
     "metadata": {},
     "output_type": "execute_result"
    }
   ],
   "source": [
    "iris.target_names"
   ]
  },
  {
   "cell_type": "code",
   "execution_count": 5,
   "metadata": {
    "collapsed": true
   },
   "outputs": [],
   "source": [
    "X = iris.data[:, :2]\n",
    "\n",
    "y_bool = iris.target!=2\n",
    "\n",
    "y = iris.target[y_bool]\n",
    "\n",
    "X = X[y_bool]"
   ]
  },
  {
   "cell_type": "code",
   "execution_count": 6,
   "metadata": {},
   "outputs": [
    {
     "data": {
      "text/plain": [
       "((100,), (100, 2))"
      ]
     },
     "execution_count": 6,
     "metadata": {},
     "output_type": "execute_result"
    }
   ],
   "source": [
    "y.shape, X.shape"
   ]
  },
  {
   "cell_type": "code",
   "execution_count": 7,
   "metadata": {
    "colab": {
     "autoexec": {
      "startup": false,
      "wait_interval": 0
     },
     "base_uri": "https://localhost:8080/",
     "height": 89
    },
    "colab_type": "code",
    "executionInfo": {
     "elapsed": 851,
     "status": "ok",
     "timestamp": 1526821621454,
     "user": {
      "displayName": "Rakend Reddy",
      "photoUrl": "//lh3.googleusercontent.com/-gGO5q20beLY/AAAAAAAAAAI/AAAAAAAAThw/LdLml3kfErg/s50-c-k-no/photo.jpg",
      "userId": "116865286293014944525"
     },
     "user_tz": -330
    },
    "id": "0PGyvtW5pxj5",
    "outputId": "c9377ebf-4d90-4c0c-c3bf-e8d6954fcbe0"
   },
   "outputs": [
    {
     "data": {
      "text/plain": [
       "['sepal length (cm)',\n",
       " 'sepal width (cm)',\n",
       " 'petal length (cm)',\n",
       " 'petal width (cm)']"
      ]
     },
     "execution_count": 7,
     "metadata": {},
     "output_type": "execute_result"
    }
   ],
   "source": [
    "iris.feature_names"
   ]
  },
  {
   "cell_type": "code",
   "execution_count": 8,
   "metadata": {
    "colab": {
     "autoexec": {
      "startup": false,
      "wait_interval": 0
     },
     "base_uri": "https://localhost:8080/",
     "height": 35
    },
    "colab_type": "code",
    "executionInfo": {
     "elapsed": 851,
     "status": "ok",
     "timestamp": 1526821623525,
     "user": {
      "displayName": "Rakend Reddy",
      "photoUrl": "//lh3.googleusercontent.com/-gGO5q20beLY/AAAAAAAAAAI/AAAAAAAAThw/LdLml3kfErg/s50-c-k-no/photo.jpg",
      "userId": "116865286293014944525"
     },
     "user_tz": -330
    },
    "id": "mHalP2HppxkA",
    "outputId": "2940d41d-1e01-4537-80dd-c715be1305c6"
   },
   "outputs": [
    {
     "data": {
      "text/plain": [
       "array(['setosa', 'versicolor', 'virginica'],\n",
       "      dtype='<U10')"
      ]
     },
     "execution_count": 8,
     "metadata": {},
     "output_type": "execute_result"
    }
   ],
   "source": [
    "iris.target_names"
   ]
  },
  {
   "cell_type": "code",
   "execution_count": 9,
   "metadata": {
    "colab": {
     "autoexec": {
      "startup": false,
      "wait_interval": 0
     },
     "base_uri": "https://localhost:8080/",
     "height": 392
    },
    "colab_type": "code",
    "executionInfo": {
     "elapsed": 873,
     "status": "ok",
     "timestamp": 1526821625953,
     "user": {
      "displayName": "Rakend Reddy",
      "photoUrl": "//lh3.googleusercontent.com/-gGO5q20beLY/AAAAAAAAAAI/AAAAAAAAThw/LdLml3kfErg/s50-c-k-no/photo.jpg",
      "userId": "116865286293014944525"
     },
     "user_tz": -330
    },
    "id": "HLI7h1GQpxkK",
    "outputId": "59aea19f-45cd-4838-c0f5-517b88f2535c"
   },
   "outputs": [
    {
     "data": {
      "image/png": "[encoded data removed]",
      "text/plain": [
       "<matplotlib.figure.Figure at 0x7f9b5eebe240>"
      ]
     },
     "metadata": {},
     "output_type": "display_data"
    }
   ],
   "source": [
    "plt.figure(1,figsize=(8,6))\n",
    "ax = plt.scatter(X[:,0],X[:,1],c=y, cmap=\"bwr_r\")\n",
    "plt.xlabel(iris.feature_names[0], fontsize=15)\n",
    "plt.ylabel(iris.feature_names[1], fontsize=15)\n",
    "s1 = plt.scatter([],[], s=30, marker='o', c='red' )\n",
    "s2 = plt.scatter([],[], s=30, marker='o', c='blue')\n",
    "\n",
    "plt.legend((s1,s2),\n",
    "       (iris.target_names[0],iris.target_names[1]),\n",
    "       scatterpoints=1,\n",
    "       loc='upper right',\n",
    "       fontsize=12,\n",
    "           )\n",
    "plt.show()"
   ]
  },
  {
   "cell_type": "markdown",
   "metadata": {
    "colab_type": "text",
    "id": "jS5q9-RfpxkN"
   },
   "source": [
    "### Logistic Regression"
   ]
  },
  {
   "cell_type": "code",
   "execution_count": 10,
   "metadata": {
    "colab": {
     "autoexec": {
      "startup": false,
      "wait_interval": 0
     }
    },
    "colab_type": "code",
    "collapsed": true,
    "id": "Dq2dwBWIpxkO"
   },
   "outputs": [],
   "source": [
    "X = np.c_[np.ones((X.shape[0],1)), X[:]]\n",
    "y = y.reshape(-1,1)\n",
    "\n",
    "\n",
    "# Parameters required for Gradient Descent\n",
    "alpha = 0.1   #learning rate\n",
    "m = y.size  #no. of samples\n",
    "np.random.seed(10)\n",
    "theta = np.random.rand(3)  #initializing theta with some random values\n",
    "theta = theta.reshape(-1,1)"
   ]
  },
  {
   "cell_type": "code",
   "execution_count": 11,
   "metadata": {
    "colab": {
     "autoexec": {
      "startup": false,
      "wait_interval": 0
     }
    },
    "colab_type": "code",
    "collapsed": true,
    "id": "dE4Di4fKpxkS"
   },
   "outputs": [],
   "source": [
    "def gradient_descent(x, y, m, theta,  alpha):\n",
    "    cost_list = []   #to record all cost values to this list\n",
    "    theta_list = []  #to record all theta_0 and theta_1 values to this list \n",
    "    prediction_list = []\n",
    "    run = True\n",
    "    cost_list.append(1e10)    #we append some large value (initial value) to the cost list\n",
    "    i=0\n",
    "    while run:\n",
    "        Z = np.dot(x, theta) \n",
    "        prediction = 1 / (1 + np.exp(-Z))   #predicted y values - sigmoid function\n",
    "        prediction_list.append(prediction)\n",
    "        error = prediction - y\n",
    "        cost = np.sum(-(y * np.log(prediction) + (1 - y) * np.log(1 - prediction))) / m   #  (1/2m)*sum[(error)^2]\n",
    "#         cost = -(1/m)*np.sum(np.dot(y.T, np.log(prediction)) + np.dot((1 - y).T, np.log(1 - prediction)))\n",
    "        \n",
    "        cost_list.append(cost)\n",
    "        theta = theta - (alpha * (1/m) * np.dot(x.T, error))   # alpha * (1/m) * sum[error*x]\n",
    "        theta_list.append(theta)\n",
    "        if cost_list[i]-cost_list[i+1] < 1e-8:   #checking if the change in cost function is less than 10^(-8)\n",
    "            run = False\n",
    "\n",
    "        i+=1\n",
    "    cost_list.pop(0)   # Remove the large number we added in the begining \n",
    "    return prediction_list, cost_list, theta_list"
   ]
  },
  {
   "cell_type": "code",
   "execution_count": 12,
   "metadata": {
    "colab": {
     "autoexec": {
      "startup": false,
      "wait_interval": 0
     },
     "base_uri": "https://localhost:8080/",
     "height": 53
    },
    "colab_type": "code",
    "executionInfo": {
     "elapsed": 15753,
     "status": "ok",
     "timestamp": 1526821643704,
     "user": {
      "displayName": "Rakend Reddy",
      "photoUrl": "//lh3.googleusercontent.com/-gGO5q20beLY/AAAAAAAAAAI/AAAAAAAAThw/LdLml3kfErg/s50-c-k-no/photo.jpg",
      "userId": "116865286293014944525"
     },
     "user_tz": -330
    },
    "id": "2hpxDztKpxkV",
    "outputId": "09553297-639f-49a8-c54a-30b68d373294"
   },
   "outputs": [
    {
     "name": "stdout",
     "output_type": "stream",
     "text": [
      "CPU times: user 13 s, sys: 168 ms, total: 13.1 s\n",
      "Wall time: 13.1 s\n"
     ]
    }
   ],
   "source": [
    "%%time \n",
    "prediction_list, cost_list, theta_list = gradient_descent(X, y, m, theta, alpha)\n",
    "theta = theta_list[-1]"
   ]
  },
  {
   "cell_type": "code",
   "execution_count": 13,
   "metadata": {
    "colab": {
     "autoexec": {
      "startup": false,
      "wait_interval": 0
     },
     "base_uri": "https://localhost:8080/",
     "height": 71
    },
    "colab_type": "code",
    "executionInfo": {
     "elapsed": 886,
     "status": "ok",
     "timestamp": 1526821644614,
     "user": {
      "displayName": "Rakend Reddy",
      "photoUrl": "//lh3.googleusercontent.com/-gGO5q20beLY/AAAAAAAAAAI/AAAAAAAAThw/LdLml3kfErg/s50-c-k-no/photo.jpg",
      "userId": "116865286293014944525"
     },
     "user_tz": -330
    },
    "id": "ACF5V62qpxkZ",
    "outputId": "de91c3e0-f472-4f23-fc57-09dc4df6ccc2"
   },
   "outputs": [
    {
     "data": {
      "text/plain": [
       "array([[-35.64955432],\n",
       "       [ 15.32854738],\n",
       "       [-15.09050851]])"
      ]
     },
     "execution_count": 13,
     "metadata": {},
     "output_type": "execute_result"
    }
   ],
   "source": [
    "theta"
   ]
  },
  {
   "cell_type": "code",
   "execution_count": 14,
   "metadata": {
    "colab": {
     "autoexec": {
      "startup": false,
      "wait_interval": 0
     },
     "base_uri": "https://localhost:8080/",
     "height": 316
    },
    "colab_type": "code",
    "executionInfo": {
     "elapsed": 1218,
     "status": "ok",
     "timestamp": 1526821645896,
     "user": {
      "displayName": "Rakend Reddy",
      "photoUrl": "//lh3.googleusercontent.com/-gGO5q20beLY/AAAAAAAAAAI/AAAAAAAAThw/LdLml3kfErg/s50-c-k-no/photo.jpg",
      "userId": "116865286293014944525"
     },
     "user_tz": -330
    },
    "id": "ZoQIN4uDpxkd",
    "outputId": "9780a7c1-ba97-49d3-e8df-dbeef23d0b66"
   },
   "outputs": [
    {
     "data": {
      "image/png": "[encoded data removed]",
      "text/plain": [
       "<matplotlib.figure.Figure at 0x7f9b56fdd160>"
      ]
     },
     "metadata": {},
     "output_type": "display_data"
    }
   ],
   "source": [
    "plt.title('Cost Function J', size = 30)\n",
    "plt.xlabel('No. of iterations', size=20)\n",
    "plt.ylabel('Cost', size=20)\n",
    "plt.plot(cost_list)\n",
    "plt.show()"
   ]
  },
  {
   "cell_type": "code",
   "execution_count": 15,
   "metadata": {
    "colab": {
     "autoexec": {
      "startup": false,
      "wait_interval": 0
     }
    },
    "colab_type": "code",
    "collapsed": true,
    "id": "Aug4Fwpqpxkh"
   },
   "outputs": [],
   "source": [
    "xx = np.linspace(X.min(), X.max())"
   ]
  },
  {
   "cell_type": "code",
   "execution_count": 16,
   "metadata": {
    "colab": {
     "autoexec": {
      "startup": false,
      "wait_interval": 0
     }
    },
    "colab_type": "code",
    "collapsed": true,
    "id": "cmpxnoHFpxkk"
   },
   "outputs": [],
   "source": [
    "yy = - theta[1]/theta[2] *xx - theta[0]/theta[2]"
   ]
  },
  {
   "cell_type": "code",
   "execution_count": 17,
   "metadata": {},
   "outputs": [
    {
     "data": {
      "text/plain": [
       "(100, 3)"
      ]
     },
     "execution_count": 17,
     "metadata": {},
     "output_type": "execute_result"
    }
   ],
   "source": [
    "X.shape"
   ]
  },
  {
   "cell_type": "code",
   "execution_count": 18,
   "metadata": {
    "collapsed": true
   },
   "outputs": [],
   "source": [
    "X_setosa = X[:,1:][y.ravel()==0] \n",
    "X_versicolor = X[:,1:][y.ravel()==1]"
   ]
  },
  {
   "cell_type": "code",
   "execution_count": 19,
   "metadata": {},
   "outputs": [
    {
     "data": {
      "image/png": "[encoded data removed]",
      "text/plain": [
       "<matplotlib.figure.Figure at 0x7f9b5214c9b0>"
      ]
     },
     "metadata": {},
     "output_type": "display_data"
    }
   ],
   "source": [
    "plt.figure(1,figsize=(8,6))\n",
    "plt.plot(X_setosa[:,0], X_setosa[:,1],'o',label='setosa')\n",
    "plt.plot(X_versicolor[:,0], X_versicolor[:,1],'o',label='versicolor')\n",
    "plt.plot(xx,yy,label='Hyperplane-scratch')\n",
    "plt.xlim(X[:,1].min()-0.1, X[:,1].max()+0.1)\n",
    "plt.ylim(X[:,2].min()-0.1, X[:,2].max()+0.1)\n",
    "plt.legend()\n",
    "plt.xlabel(iris.feature_names[0], fontsize=15)\n",
    "plt.ylabel(iris.feature_names[1], fontsize=15)\n",
    "plt.show()"
   ]
  },
  {
   "cell_type": "code",
   "execution_count": 20,
   "metadata": {
    "colab": {
     "autoexec": {
      "startup": false,
      "wait_interval": 0
     },
     "base_uri": "https://localhost:8080/",
     "height": 71
    },
    "colab_type": "code",
    "executionInfo": {
     "elapsed": 823,
     "status": "ok",
     "timestamp": 1526821662883,
     "user": {
      "displayName": "Rakend Reddy",
      "photoUrl": "//lh3.googleusercontent.com/-gGO5q20beLY/AAAAAAAAAAI/AAAAAAAAThw/LdLml3kfErg/s50-c-k-no/photo.jpg",
      "userId": "116865286293014944525"
     },
     "user_tz": -330
    },
    "id": "Ghe_ji64pxkq",
    "outputId": "a5bfb55e-f602-44a6-bc72-6c0ea82f3e8d",
    "scrolled": true
   },
   "outputs": [
    {
     "data": {
      "text/plain": [
       "array([[-35.64955432],\n",
       "       [ 15.32854738],\n",
       "       [-15.09050851]])"
      ]
     },
     "execution_count": 20,
     "metadata": {},
     "output_type": "execute_result"
    }
   ],
   "source": [
    "theta"
   ]
  },
  {
   "cell_type": "markdown",
   "metadata": {
    "colab_type": "text",
    "id": "baKDcsVdpxkt"
   },
   "source": [
    "### sklearn"
   ]
  },
  {
   "cell_type": "code",
   "execution_count": 21,
   "metadata": {
    "colab": {
     "autoexec": {
      "startup": false,
      "wait_interval": 0
     }
    },
    "colab_type": "code",
    "collapsed": true,
    "id": "vta36sBnpxku"
   },
   "outputs": [],
   "source": [
    "X_sklearn = iris.data[:, :2]\n",
    "\n",
    "y_bool = iris.target!=2\n",
    "\n",
    "y = iris.target[y_bool]\n",
    "\n",
    "X_sklearn = X_sklearn[y_bool]"
   ]
  },
  {
   "cell_type": "code",
   "execution_count": 22,
   "metadata": {
    "colab": {
     "autoexec": {
      "startup": false,
      "wait_interval": 0
     }
    },
    "colab_type": "code",
    "collapsed": true,
    "id": "y-mbOsFUpxkw"
   },
   "outputs": [],
   "source": [
    "from sklearn.linear_model import LogisticRegression"
   ]
  },
  {
   "cell_type": "code",
   "execution_count": 23,
   "metadata": {
    "collapsed": true
   },
   "outputs": [],
   "source": [
    "lr = LogisticRegression(C=1e100, penalty='l1', tol=1e-8, solver='liblinear')"
   ]
  },
  {
   "cell_type": "markdown",
   "metadata": {},
   "source": [
    "#### Hyperparameters"
   ]
  },
  {
   "cell_type": "markdown",
   "metadata": {},
   "source": [
    "C is the strength of the regularization, we use this to avoid over-fitting. <br>\n",
    "Higher values of C correspond to less regularizatio. <br>\n",
    "C is actually the Inverse of regularization strength(lambda)\n",
    "\n",
    "\n",
    "By default sklearn.linear_model.LogisticRegression() uses C = 1\n",
    "\n",
    "\n",
    "We kept convergence limit for residual $10^{-8}$ in the scratch code, so using same here 'tol'\n",
    "\n",
    "Other hyperparameters, we discuss in detail in another post. "
   ]
  },
  {
   "cell_type": "code",
   "execution_count": 24,
   "metadata": {
    "colab": {
     "autoexec": {
      "startup": false,
      "wait_interval": 0
     }
    },
    "colab_type": "code",
    "collapsed": true,
    "id": "0fWsJif8pxk3"
   },
   "outputs": [],
   "source": [
    "lr = lr.fit(X_sklearn,y)"
   ]
  },
  {
   "cell_type": "code",
   "execution_count": 25,
   "metadata": {
    "colab": {
     "autoexec": {
      "startup": false,
      "wait_interval": 0
     },
     "base_uri": "https://localhost:8080/",
     "height": 35
    },
    "colab_type": "code",
    "executionInfo": {
     "elapsed": 855,
     "status": "ok",
     "timestamp": 1526821667764,
     "user": {
      "displayName": "Rakend Reddy",
      "photoUrl": "//lh3.googleusercontent.com/-gGO5q20beLY/AAAAAAAAAAI/AAAAAAAAThw/LdLml3kfErg/s50-c-k-no/photo.jpg",
      "userId": "116865286293014944525"
     },
     "user_tz": -330
    },
    "id": "5YFWlAMvpxk7",
    "outputId": "1c938757-5430-436a-85da-6a8d9c59fb4a"
   },
   "outputs": [
    {
     "data": {
      "text/plain": [
       "array([[ 15.44383411, -14.36184745]])"
      ]
     },
     "execution_count": 25,
     "metadata": {},
     "output_type": "execute_result"
    }
   ],
   "source": [
    "lr.coef_"
   ]
  },
  {
   "cell_type": "code",
   "execution_count": 26,
   "metadata": {
    "colab": {
     "autoexec": {
      "startup": false,
      "wait_interval": 0
     },
     "base_uri": "https://localhost:8080/",
     "height": 35
    },
    "colab_type": "code",
    "executionInfo": {
     "elapsed": 825,
     "status": "ok",
     "timestamp": 1526821668644,
     "user": {
      "displayName": "Rakend Reddy",
      "photoUrl": "//lh3.googleusercontent.com/-gGO5q20beLY/AAAAAAAAAAI/AAAAAAAAThw/LdLml3kfErg/s50-c-k-no/photo.jpg",
      "userId": "116865286293014944525"
     },
     "user_tz": -330
    },
    "id": "tUyEdr7ppxk-",
    "outputId": "6c869cac-e890-49e3-bc24-6be459eaee52",
    "scrolled": true
   },
   "outputs": [
    {
     "data": {
      "text/plain": [
       "array([-38.30771138])"
      ]
     },
     "execution_count": 26,
     "metadata": {},
     "output_type": "execute_result"
    }
   ],
   "source": [
    "lr.intercept_"
   ]
  },
  {
   "cell_type": "code",
   "execution_count": 27,
   "metadata": {
    "collapsed": true
   },
   "outputs": [],
   "source": [
    "yy_l1 = - lr.coef_[0,0]/lr.coef_[0,1] *xx - lr.intercept_[0]/lr.coef_[0,1]"
   ]
  },
  {
   "cell_type": "code",
   "execution_count": 28,
   "metadata": {
    "scrolled": false
   },
   "outputs": [
    {
     "data": {
      "image/png": "[encoded data removed]",
      "text/plain": [
       "<matplotlib.figure.Figure at 0x7f9b5213eda0>"
      ]
     },
     "metadata": {},
     "output_type": "display_data"
    }
   ],
   "source": [
    "plt.figure(1,figsize=(8,6))\n",
    "plt.plot(X_setosa[:,0], X_setosa[:,1],'o',label='setosa')\n",
    "plt.plot(X_versicolor[:,0], X_versicolor[:,1],'o',label='versicolor')\n",
    "plt.plot(xx,yy,label='Hyperplane-scratch')\n",
    "plt.plot(xx,yy_l1,'--',label='Sklearn')\n",
    "plt.xlim(X[:,1].min()-0.1, X[:,1].max()+0.1)\n",
    "plt.ylim(X[:,2].min()-0.1, X[:,2].max()+0.1)\n",
    "plt.legend()\n",
    "plt.xlabel(iris.feature_names[0], fontsize=15)\n",
    "plt.ylabel(iris.feature_names[1], fontsize=15)\n",
    "plt.show()"
   ]
  },
  {
   "cell_type": "markdown",
   "metadata": {},
   "source": [
    "#### Weights"
   ]
  },
  {
   "cell_type": "markdown",
   "metadata": {},
   "source": [
    "From scratch"
   ]
  },
  {
   "cell_type": "code",
   "execution_count": 29,
   "metadata": {},
   "outputs": [
    {
     "data": {
      "text/plain": [
       "'Theta_0 and Theta_1 are -35.65,15.329'"
      ]
     },
     "execution_count": 29,
     "metadata": {},
     "output_type": "execute_result"
    }
   ],
   "source": [
    "'Theta_0 and Theta_1 are {},{}'.format(round(theta[0,0],3),round(theta[1,0],3))"
   ]
  },
  {
   "cell_type": "markdown",
   "metadata": {},
   "source": [
    "Sklearn"
   ]
  },
  {
   "cell_type": "code",
   "execution_count": 30,
   "metadata": {
    "scrolled": true
   },
   "outputs": [
    {
     "data": {
      "text/plain": [
       "'Theta_0 and Theta_1 are -38.308,15.444'"
      ]
     },
     "execution_count": 30,
     "metadata": {},
     "output_type": "execute_result"
    }
   ],
   "source": [
    "'Theta_0 and Theta_1 are {},{}'.format(round(lr.intercept_[0],3), round(lr.coef_[0,0],3))"
   ]
  },
  {
   "cell_type": "markdown",
   "metadata": {},
   "source": [
    "Below cell for styling, ignore it"
   ]
  },
  {
   "cell_type": "markdown",
   "metadata": {},
   "source": [
    "#### Prediction"
   ]
  },
  {
   "cell_type": "markdown",
   "metadata": {},
   "source": [
    "We 'll try predicting using some sample length and width"
   ]
  },
  {
   "cell_type": "code",
   "execution_count": 31,
   "metadata": {
    "collapsed": true
   },
   "outputs": [],
   "source": [
    "test_data = [[5,3.5]]"
   ]
  },
  {
   "cell_type": "code",
   "execution_count": 32,
   "metadata": {},
   "outputs": [
    {
     "data": {
      "text/plain": [
       "'setosa'"
      ]
     },
     "execution_count": 32,
     "metadata": {},
     "output_type": "execute_result"
    }
   ],
   "source": [
    "iris.target_names[lr.predict(test_data)[0] ]"
   ]
  },
  {
   "cell_type": "raw",
   "metadata": {},
   "source": [
    "\n",
    "from IPython.core.display import display, HTML\n",
    "display(HTML(\"<style>.container { width:100% !important; }</style>\"))\n"
   ]
  }
 ],
 "metadata": {
  "colab": {
   "default_view": {},
   "name": "Logistic Regression iris multivariate.ipynb",
   "provenance": [],
   "version": "0.3.2",
   "views": {}
  },
  "kernelspec": {
   "display_name": "Python 3",
   "language": "python",
   "name": "python3"
  },
  "language_info": {
   "codemirror_mode": {
    "name": "ipython",
    "version": 3
   },
   "file_extension": ".py",
   "mimetype": "text/x-python",
   "name": "python",
   "nbconvert_exporter": "python",
   "pygments_lexer": "ipython3",
   "version": "3.6.3"
  }
 },
 "nbformat": 4,
 "nbformat_minor": 1
}
